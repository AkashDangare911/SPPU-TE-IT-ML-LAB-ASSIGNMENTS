{
 "cells": [
  {
   "cell_type": "code",
   "execution_count": 2,
   "id": "c81ea42d",
   "metadata": {},
   "outputs": [],
   "source": [
    "# DANGARE AKASH MAHESH\n",
    "# 28, TE , IT\n",
    "\n",
    "import pandas as pd\n",
    "import matplotlib.pyplot as plt\n",
    "import numpy as np"
   ]
  },
  {
   "cell_type": "code",
   "execution_count": 3,
   "id": "358ed1e8",
   "metadata": {},
   "outputs": [],
   "source": [
    "airquality = pd.read_csv('airquality.csv')"
   ]
  },
  {
   "cell_type": "code",
   "execution_count": 4,
   "id": "f1f4a5c6",
   "metadata": {},
   "outputs": [
    {
     "data": {
      "text/html": [
       "<div>\n",
       "<style scoped>\n",
       "    .dataframe tbody tr th:only-of-type {\n",
       "        vertical-align: middle;\n",
       "    }\n",
       "\n",
       "    .dataframe tbody tr th {\n",
       "        vertical-align: top;\n",
       "    }\n",
       "\n",
       "    .dataframe thead th {\n",
       "        text-align: right;\n",
       "    }\n",
       "</style>\n",
       "<table border=\"1\" class=\"dataframe\">\n",
       "  <thead>\n",
       "    <tr style=\"text-align: right;\">\n",
       "      <th></th>\n",
       "      <th>Unnamed: 0</th>\n",
       "      <th>Ozone</th>\n",
       "      <th>Solar.R</th>\n",
       "      <th>Wind</th>\n",
       "      <th>Temp</th>\n",
       "      <th>Month</th>\n",
       "      <th>Day</th>\n",
       "    </tr>\n",
       "  </thead>\n",
       "  <tbody>\n",
       "    <tr>\n",
       "      <th>0</th>\n",
       "      <td>1</td>\n",
       "      <td>41.0</td>\n",
       "      <td>190.0</td>\n",
       "      <td>7.4</td>\n",
       "      <td>67</td>\n",
       "      <td>5</td>\n",
       "      <td>1</td>\n",
       "    </tr>\n",
       "    <tr>\n",
       "      <th>1</th>\n",
       "      <td>2</td>\n",
       "      <td>36.0</td>\n",
       "      <td>118.0</td>\n",
       "      <td>8.0</td>\n",
       "      <td>72</td>\n",
       "      <td>5</td>\n",
       "      <td>2</td>\n",
       "    </tr>\n",
       "    <tr>\n",
       "      <th>2</th>\n",
       "      <td>3</td>\n",
       "      <td>12.0</td>\n",
       "      <td>149.0</td>\n",
       "      <td>12.6</td>\n",
       "      <td>74</td>\n",
       "      <td>5</td>\n",
       "      <td>3</td>\n",
       "    </tr>\n",
       "    <tr>\n",
       "      <th>3</th>\n",
       "      <td>4</td>\n",
       "      <td>18.0</td>\n",
       "      <td>313.0</td>\n",
       "      <td>11.5</td>\n",
       "      <td>62</td>\n",
       "      <td>5</td>\n",
       "      <td>4</td>\n",
       "    </tr>\n",
       "    <tr>\n",
       "      <th>4</th>\n",
       "      <td>5</td>\n",
       "      <td>NaN</td>\n",
       "      <td>NaN</td>\n",
       "      <td>14.3</td>\n",
       "      <td>56</td>\n",
       "      <td>5</td>\n",
       "      <td>5</td>\n",
       "    </tr>\n",
       "    <tr>\n",
       "      <th>...</th>\n",
       "      <td>...</td>\n",
       "      <td>...</td>\n",
       "      <td>...</td>\n",
       "      <td>...</td>\n",
       "      <td>...</td>\n",
       "      <td>...</td>\n",
       "      <td>...</td>\n",
       "    </tr>\n",
       "    <tr>\n",
       "      <th>148</th>\n",
       "      <td>149</td>\n",
       "      <td>30.0</td>\n",
       "      <td>193.0</td>\n",
       "      <td>6.9</td>\n",
       "      <td>70</td>\n",
       "      <td>9</td>\n",
       "      <td>26</td>\n",
       "    </tr>\n",
       "    <tr>\n",
       "      <th>149</th>\n",
       "      <td>150</td>\n",
       "      <td>NaN</td>\n",
       "      <td>145.0</td>\n",
       "      <td>13.2</td>\n",
       "      <td>77</td>\n",
       "      <td>9</td>\n",
       "      <td>27</td>\n",
       "    </tr>\n",
       "    <tr>\n",
       "      <th>150</th>\n",
       "      <td>151</td>\n",
       "      <td>14.0</td>\n",
       "      <td>191.0</td>\n",
       "      <td>14.3</td>\n",
       "      <td>75</td>\n",
       "      <td>9</td>\n",
       "      <td>28</td>\n",
       "    </tr>\n",
       "    <tr>\n",
       "      <th>151</th>\n",
       "      <td>152</td>\n",
       "      <td>18.0</td>\n",
       "      <td>131.0</td>\n",
       "      <td>8.0</td>\n",
       "      <td>76</td>\n",
       "      <td>9</td>\n",
       "      <td>29</td>\n",
       "    </tr>\n",
       "    <tr>\n",
       "      <th>152</th>\n",
       "      <td>153</td>\n",
       "      <td>20.0</td>\n",
       "      <td>223.0</td>\n",
       "      <td>11.5</td>\n",
       "      <td>68</td>\n",
       "      <td>9</td>\n",
       "      <td>30</td>\n",
       "    </tr>\n",
       "  </tbody>\n",
       "</table>\n",
       "<p>153 rows × 7 columns</p>\n",
       "</div>"
      ],
      "text/plain": [
       "     Unnamed: 0  Ozone  Solar.R  Wind  Temp  Month  Day\n",
       "0             1   41.0    190.0   7.4    67      5    1\n",
       "1             2   36.0    118.0   8.0    72      5    2\n",
       "2             3   12.0    149.0  12.6    74      5    3\n",
       "3             4   18.0    313.0  11.5    62      5    4\n",
       "4             5    NaN      NaN  14.3    56      5    5\n",
       "..          ...    ...      ...   ...   ...    ...  ...\n",
       "148         149   30.0    193.0   6.9    70      9   26\n",
       "149         150    NaN    145.0  13.2    77      9   27\n",
       "150         151   14.0    191.0  14.3    75      9   28\n",
       "151         152   18.0    131.0   8.0    76      9   29\n",
       "152         153   20.0    223.0  11.5    68      9   30\n",
       "\n",
       "[153 rows x 7 columns]"
      ]
     },
     "execution_count": 4,
     "metadata": {},
     "output_type": "execute_result"
    }
   ],
   "source": [
    "airquality"
   ]
  },
  {
   "cell_type": "code",
   "execution_count": 5,
   "id": "aedf1b1c",
   "metadata": {},
   "outputs": [],
   "source": [
    "airquality = airquality.drop(labels = ['Unnamed: 0'],axis=1)"
   ]
  },
  {
   "cell_type": "code",
   "execution_count": 6,
   "id": "d422fcdc",
   "metadata": {},
   "outputs": [
    {
     "data": {
      "text/html": [
       "<div>\n",
       "<style scoped>\n",
       "    .dataframe tbody tr th:only-of-type {\n",
       "        vertical-align: middle;\n",
       "    }\n",
       "\n",
       "    .dataframe tbody tr th {\n",
       "        vertical-align: top;\n",
       "    }\n",
       "\n",
       "    .dataframe thead th {\n",
       "        text-align: right;\n",
       "    }\n",
       "</style>\n",
       "<table border=\"1\" class=\"dataframe\">\n",
       "  <thead>\n",
       "    <tr style=\"text-align: right;\">\n",
       "      <th></th>\n",
       "      <th>Ozone</th>\n",
       "      <th>Solar.R</th>\n",
       "      <th>Wind</th>\n",
       "      <th>Temp</th>\n",
       "      <th>Month</th>\n",
       "      <th>Day</th>\n",
       "    </tr>\n",
       "  </thead>\n",
       "  <tbody>\n",
       "    <tr>\n",
       "      <th>0</th>\n",
       "      <td>41.0</td>\n",
       "      <td>190.0</td>\n",
       "      <td>7.4</td>\n",
       "      <td>67</td>\n",
       "      <td>5</td>\n",
       "      <td>1</td>\n",
       "    </tr>\n",
       "    <tr>\n",
       "      <th>1</th>\n",
       "      <td>36.0</td>\n",
       "      <td>118.0</td>\n",
       "      <td>8.0</td>\n",
       "      <td>72</td>\n",
       "      <td>5</td>\n",
       "      <td>2</td>\n",
       "    </tr>\n",
       "    <tr>\n",
       "      <th>2</th>\n",
       "      <td>12.0</td>\n",
       "      <td>149.0</td>\n",
       "      <td>12.6</td>\n",
       "      <td>74</td>\n",
       "      <td>5</td>\n",
       "      <td>3</td>\n",
       "    </tr>\n",
       "    <tr>\n",
       "      <th>3</th>\n",
       "      <td>18.0</td>\n",
       "      <td>313.0</td>\n",
       "      <td>11.5</td>\n",
       "      <td>62</td>\n",
       "      <td>5</td>\n",
       "      <td>4</td>\n",
       "    </tr>\n",
       "    <tr>\n",
       "      <th>4</th>\n",
       "      <td>NaN</td>\n",
       "      <td>NaN</td>\n",
       "      <td>14.3</td>\n",
       "      <td>56</td>\n",
       "      <td>5</td>\n",
       "      <td>5</td>\n",
       "    </tr>\n",
       "    <tr>\n",
       "      <th>...</th>\n",
       "      <td>...</td>\n",
       "      <td>...</td>\n",
       "      <td>...</td>\n",
       "      <td>...</td>\n",
       "      <td>...</td>\n",
       "      <td>...</td>\n",
       "    </tr>\n",
       "    <tr>\n",
       "      <th>148</th>\n",
       "      <td>30.0</td>\n",
       "      <td>193.0</td>\n",
       "      <td>6.9</td>\n",
       "      <td>70</td>\n",
       "      <td>9</td>\n",
       "      <td>26</td>\n",
       "    </tr>\n",
       "    <tr>\n",
       "      <th>149</th>\n",
       "      <td>NaN</td>\n",
       "      <td>145.0</td>\n",
       "      <td>13.2</td>\n",
       "      <td>77</td>\n",
       "      <td>9</td>\n",
       "      <td>27</td>\n",
       "    </tr>\n",
       "    <tr>\n",
       "      <th>150</th>\n",
       "      <td>14.0</td>\n",
       "      <td>191.0</td>\n",
       "      <td>14.3</td>\n",
       "      <td>75</td>\n",
       "      <td>9</td>\n",
       "      <td>28</td>\n",
       "    </tr>\n",
       "    <tr>\n",
       "      <th>151</th>\n",
       "      <td>18.0</td>\n",
       "      <td>131.0</td>\n",
       "      <td>8.0</td>\n",
       "      <td>76</td>\n",
       "      <td>9</td>\n",
       "      <td>29</td>\n",
       "    </tr>\n",
       "    <tr>\n",
       "      <th>152</th>\n",
       "      <td>20.0</td>\n",
       "      <td>223.0</td>\n",
       "      <td>11.5</td>\n",
       "      <td>68</td>\n",
       "      <td>9</td>\n",
       "      <td>30</td>\n",
       "    </tr>\n",
       "  </tbody>\n",
       "</table>\n",
       "<p>153 rows × 6 columns</p>\n",
       "</div>"
      ],
      "text/plain": [
       "     Ozone  Solar.R  Wind  Temp  Month  Day\n",
       "0     41.0    190.0   7.4    67      5    1\n",
       "1     36.0    118.0   8.0    72      5    2\n",
       "2     12.0    149.0  12.6    74      5    3\n",
       "3     18.0    313.0  11.5    62      5    4\n",
       "4      NaN      NaN  14.3    56      5    5\n",
       "..     ...      ...   ...   ...    ...  ...\n",
       "148   30.0    193.0   6.9    70      9   26\n",
       "149    NaN    145.0  13.2    77      9   27\n",
       "150   14.0    191.0  14.3    75      9   28\n",
       "151   18.0    131.0   8.0    76      9   29\n",
       "152   20.0    223.0  11.5    68      9   30\n",
       "\n",
       "[153 rows x 6 columns]"
      ]
     },
     "execution_count": 6,
     "metadata": {},
     "output_type": "execute_result"
    }
   ],
   "source": [
    "airquality"
   ]
  },
  {
   "cell_type": "code",
   "execution_count": 7,
   "id": "b40a1605",
   "metadata": {},
   "outputs": [],
   "source": [
    "ozone_mean = airquality['Ozone'].mean()"
   ]
  },
  {
   "cell_type": "code",
   "execution_count": 9,
   "id": "3346cfb7",
   "metadata": {},
   "outputs": [],
   "source": [
    "airquality['Ozone'].fillna(value=ozone_mean,inplace= True)"
   ]
  },
  {
   "cell_type": "code",
   "execution_count": 10,
   "id": "2a528bbc",
   "metadata": {},
   "outputs": [
    {
     "data": {
      "text/html": [
       "<div>\n",
       "<style scoped>\n",
       "    .dataframe tbody tr th:only-of-type {\n",
       "        vertical-align: middle;\n",
       "    }\n",
       "\n",
       "    .dataframe tbody tr th {\n",
       "        vertical-align: top;\n",
       "    }\n",
       "\n",
       "    .dataframe thead th {\n",
       "        text-align: right;\n",
       "    }\n",
       "</style>\n",
       "<table border=\"1\" class=\"dataframe\">\n",
       "  <thead>\n",
       "    <tr style=\"text-align: right;\">\n",
       "      <th></th>\n",
       "      <th>Ozone</th>\n",
       "      <th>Solar.R</th>\n",
       "      <th>Wind</th>\n",
       "      <th>Temp</th>\n",
       "      <th>Month</th>\n",
       "      <th>Day</th>\n",
       "    </tr>\n",
       "  </thead>\n",
       "  <tbody>\n",
       "    <tr>\n",
       "      <th>0</th>\n",
       "      <td>41.00000</td>\n",
       "      <td>190.0</td>\n",
       "      <td>7.4</td>\n",
       "      <td>67</td>\n",
       "      <td>5</td>\n",
       "      <td>1</td>\n",
       "    </tr>\n",
       "    <tr>\n",
       "      <th>1</th>\n",
       "      <td>36.00000</td>\n",
       "      <td>118.0</td>\n",
       "      <td>8.0</td>\n",
       "      <td>72</td>\n",
       "      <td>5</td>\n",
       "      <td>2</td>\n",
       "    </tr>\n",
       "    <tr>\n",
       "      <th>2</th>\n",
       "      <td>12.00000</td>\n",
       "      <td>149.0</td>\n",
       "      <td>12.6</td>\n",
       "      <td>74</td>\n",
       "      <td>5</td>\n",
       "      <td>3</td>\n",
       "    </tr>\n",
       "    <tr>\n",
       "      <th>3</th>\n",
       "      <td>18.00000</td>\n",
       "      <td>313.0</td>\n",
       "      <td>11.5</td>\n",
       "      <td>62</td>\n",
       "      <td>5</td>\n",
       "      <td>4</td>\n",
       "    </tr>\n",
       "    <tr>\n",
       "      <th>4</th>\n",
       "      <td>42.12931</td>\n",
       "      <td>NaN</td>\n",
       "      <td>14.3</td>\n",
       "      <td>56</td>\n",
       "      <td>5</td>\n",
       "      <td>5</td>\n",
       "    </tr>\n",
       "    <tr>\n",
       "      <th>...</th>\n",
       "      <td>...</td>\n",
       "      <td>...</td>\n",
       "      <td>...</td>\n",
       "      <td>...</td>\n",
       "      <td>...</td>\n",
       "      <td>...</td>\n",
       "    </tr>\n",
       "    <tr>\n",
       "      <th>148</th>\n",
       "      <td>30.00000</td>\n",
       "      <td>193.0</td>\n",
       "      <td>6.9</td>\n",
       "      <td>70</td>\n",
       "      <td>9</td>\n",
       "      <td>26</td>\n",
       "    </tr>\n",
       "    <tr>\n",
       "      <th>149</th>\n",
       "      <td>42.12931</td>\n",
       "      <td>145.0</td>\n",
       "      <td>13.2</td>\n",
       "      <td>77</td>\n",
       "      <td>9</td>\n",
       "      <td>27</td>\n",
       "    </tr>\n",
       "    <tr>\n",
       "      <th>150</th>\n",
       "      <td>14.00000</td>\n",
       "      <td>191.0</td>\n",
       "      <td>14.3</td>\n",
       "      <td>75</td>\n",
       "      <td>9</td>\n",
       "      <td>28</td>\n",
       "    </tr>\n",
       "    <tr>\n",
       "      <th>151</th>\n",
       "      <td>18.00000</td>\n",
       "      <td>131.0</td>\n",
       "      <td>8.0</td>\n",
       "      <td>76</td>\n",
       "      <td>9</td>\n",
       "      <td>29</td>\n",
       "    </tr>\n",
       "    <tr>\n",
       "      <th>152</th>\n",
       "      <td>20.00000</td>\n",
       "      <td>223.0</td>\n",
       "      <td>11.5</td>\n",
       "      <td>68</td>\n",
       "      <td>9</td>\n",
       "      <td>30</td>\n",
       "    </tr>\n",
       "  </tbody>\n",
       "</table>\n",
       "<p>153 rows × 6 columns</p>\n",
       "</div>"
      ],
      "text/plain": [
       "        Ozone  Solar.R  Wind  Temp  Month  Day\n",
       "0    41.00000    190.0   7.4    67      5    1\n",
       "1    36.00000    118.0   8.0    72      5    2\n",
       "2    12.00000    149.0  12.6    74      5    3\n",
       "3    18.00000    313.0  11.5    62      5    4\n",
       "4    42.12931      NaN  14.3    56      5    5\n",
       "..        ...      ...   ...   ...    ...  ...\n",
       "148  30.00000    193.0   6.9    70      9   26\n",
       "149  42.12931    145.0  13.2    77      9   27\n",
       "150  14.00000    191.0  14.3    75      9   28\n",
       "151  18.00000    131.0   8.0    76      9   29\n",
       "152  20.00000    223.0  11.5    68      9   30\n",
       "\n",
       "[153 rows x 6 columns]"
      ]
     },
     "execution_count": 10,
     "metadata": {},
     "output_type": "execute_result"
    }
   ],
   "source": [
    "airquality"
   ]
  },
  {
   "cell_type": "code",
   "execution_count": 11,
   "id": "0e2ef447",
   "metadata": {},
   "outputs": [
    {
     "data": {
      "text/plain": [
       "185.93150684931507"
      ]
     },
     "execution_count": 11,
     "metadata": {},
     "output_type": "execute_result"
    }
   ],
   "source": [
    "solar_mean = airquality['Solar.R'].mean()\n",
    "solar_mean"
   ]
  },
  {
   "cell_type": "code",
   "execution_count": 12,
   "id": "e9e98007",
   "metadata": {},
   "outputs": [],
   "source": [
    "airquality['Solar.R'].fillna(value=solar_mean,inplace= True)"
   ]
  },
  {
   "cell_type": "code",
   "execution_count": 14,
   "id": "a2c34f7d",
   "metadata": {},
   "outputs": [
    {
     "data": {
      "text/plain": [
       "array([67, 72, 74, 62, 56, 66, 65, 59, 61, 69, 74, 69, 66, 68, 58, 64, 66,\n",
       "       57, 68, 62, 59, 73, 61, 61, 57, 58, 57, 67, 81, 79, 76, 78, 74, 67,\n",
       "       84, 85, 79, 82, 87, 90, 87, 93, 92, 82, 80, 79, 77, 72, 65, 73, 76,\n",
       "       77, 76, 76, 76, 75, 78, 73, 80, 77, 83, 84, 85, 81, 84, 83, 83, 88,\n",
       "       92, 92, 89, 82, 73, 81, 91, 80, 81, 82, 84, 87, 85, 74, 81, 82, 86,\n",
       "       85, 82, 86, 88, 86, 83, 81, 81, 81, 82, 86, 85, 87, 89, 90, 90, 92,\n",
       "       86, 86, 82, 80, 79, 77, 79, 76, 78, 78, 77, 72, 75, 79, 81, 86, 88,\n",
       "       97, 94, 96, 94, 91, 92, 93, 93, 87, 84, 80, 78, 75, 73, 81, 76, 77,\n",
       "       71, 71, 78, 67, 76, 68, 82, 64, 71, 81, 69, 63, 70, 77, 75, 76, 68],\n",
       "      dtype=int64)"
      ]
     },
     "execution_count": 14,
     "metadata": {},
     "output_type": "execute_result"
    }
   ],
   "source": [
    "X = airquality.iloc[:,3].values\n",
    "X"
   ]
  },
  {
   "cell_type": "code",
   "execution_count": 17,
   "id": "7b8d9d41",
   "metadata": {},
   "outputs": [
    {
     "data": {
      "text/plain": [
       "array([ 41.        ,  36.        ,  12.        ,  18.        ,\n",
       "        42.12931034,  28.        ,  23.        ,  19.        ,\n",
       "         8.        ,  42.12931034,   7.        ,  16.        ,\n",
       "        11.        ,  14.        ,  18.        ,  14.        ,\n",
       "        34.        ,   6.        ,  30.        ,  11.        ,\n",
       "         1.        ,  11.        ,   4.        ,  32.        ,\n",
       "        42.12931034,  42.12931034,  42.12931034,  23.        ,\n",
       "        45.        , 115.        ,  37.        ,  42.12931034,\n",
       "        42.12931034,  42.12931034,  42.12931034,  42.12931034,\n",
       "        42.12931034,  29.        ,  42.12931034,  71.        ,\n",
       "        39.        ,  42.12931034,  42.12931034,  23.        ,\n",
       "        42.12931034,  42.12931034,  21.        ,  37.        ,\n",
       "        20.        ,  12.        ,  13.        ,  42.12931034,\n",
       "        42.12931034,  42.12931034,  42.12931034,  42.12931034,\n",
       "        42.12931034,  42.12931034,  42.12931034,  42.12931034,\n",
       "        42.12931034, 135.        ,  49.        ,  32.        ,\n",
       "        42.12931034,  64.        ,  40.        ,  77.        ,\n",
       "        97.        ,  97.        ,  85.        ,  42.12931034,\n",
       "        10.        ,  27.        ,  42.12931034,   7.        ,\n",
       "        48.        ,  35.        ,  61.        ,  79.        ,\n",
       "        63.        ,  16.        ,  42.12931034,  42.12931034,\n",
       "        80.        , 108.        ,  20.        ,  52.        ,\n",
       "        82.        ,  50.        ,  64.        ,  59.        ,\n",
       "        39.        ,   9.        ,  16.        ,  78.        ,\n",
       "        35.        ,  66.        , 122.        ,  89.        ,\n",
       "       110.        ,  42.12931034,  42.12931034,  44.        ,\n",
       "        28.        ,  65.        ,  42.12931034,  22.        ,\n",
       "        59.        ,  23.        ,  31.        ,  44.        ,\n",
       "        21.        ,   9.        ,  42.12931034,  45.        ,\n",
       "       168.        ,  73.        ,  42.12931034,  76.        ,\n",
       "       118.        ,  84.        ,  85.        ,  96.        ,\n",
       "        78.        ,  73.        ,  91.        ,  47.        ,\n",
       "        32.        ,  20.        ,  23.        ,  21.        ,\n",
       "        24.        ,  44.        ,  21.        ,  28.        ,\n",
       "         9.        ,  13.        ,  46.        ,  18.        ,\n",
       "        13.        ,  24.        ,  16.        ,  13.        ,\n",
       "        23.        ,  36.        ,   7.        ,  14.        ,\n",
       "        30.        ,  42.12931034,  14.        ,  18.        ,\n",
       "        20.        ])"
      ]
     },
     "execution_count": 17,
     "metadata": {},
     "output_type": "execute_result"
    }
   ],
   "source": [
    "Y = airquality.iloc[:,0].values\n",
    "Y"
   ]
  },
  {
   "cell_type": "code",
   "execution_count": 18,
   "id": "1e9b9043",
   "metadata": {},
   "outputs": [],
   "source": [
    "X=X.reshape(-1,1)\n",
    "Y=Y.reshape(-1,1)"
   ]
  },
  {
   "cell_type": "code",
   "execution_count": 19,
   "id": "eef4b3dd",
   "metadata": {},
   "outputs": [
    {
     "data": {
      "text/plain": [
       "array([[67],\n",
       "       [72],\n",
       "       [74],\n",
       "       [62],\n",
       "       [56],\n",
       "       [66],\n",
       "       [65],\n",
       "       [59],\n",
       "       [61],\n",
       "       [69],\n",
       "       [74],\n",
       "       [69],\n",
       "       [66],\n",
       "       [68],\n",
       "       [58],\n",
       "       [64],\n",
       "       [66],\n",
       "       [57],\n",
       "       [68],\n",
       "       [62],\n",
       "       [59],\n",
       "       [73],\n",
       "       [61],\n",
       "       [61],\n",
       "       [57],\n",
       "       [58],\n",
       "       [57],\n",
       "       [67],\n",
       "       [81],\n",
       "       [79],\n",
       "       [76],\n",
       "       [78],\n",
       "       [74],\n",
       "       [67],\n",
       "       [84],\n",
       "       [85],\n",
       "       [79],\n",
       "       [82],\n",
       "       [87],\n",
       "       [90],\n",
       "       [87],\n",
       "       [93],\n",
       "       [92],\n",
       "       [82],\n",
       "       [80],\n",
       "       [79],\n",
       "       [77],\n",
       "       [72],\n",
       "       [65],\n",
       "       [73],\n",
       "       [76],\n",
       "       [77],\n",
       "       [76],\n",
       "       [76],\n",
       "       [76],\n",
       "       [75],\n",
       "       [78],\n",
       "       [73],\n",
       "       [80],\n",
       "       [77],\n",
       "       [83],\n",
       "       [84],\n",
       "       [85],\n",
       "       [81],\n",
       "       [84],\n",
       "       [83],\n",
       "       [83],\n",
       "       [88],\n",
       "       [92],\n",
       "       [92],\n",
       "       [89],\n",
       "       [82],\n",
       "       [73],\n",
       "       [81],\n",
       "       [91],\n",
       "       [80],\n",
       "       [81],\n",
       "       [82],\n",
       "       [84],\n",
       "       [87],\n",
       "       [85],\n",
       "       [74],\n",
       "       [81],\n",
       "       [82],\n",
       "       [86],\n",
       "       [85],\n",
       "       [82],\n",
       "       [86],\n",
       "       [88],\n",
       "       [86],\n",
       "       [83],\n",
       "       [81],\n",
       "       [81],\n",
       "       [81],\n",
       "       [82],\n",
       "       [86],\n",
       "       [85],\n",
       "       [87],\n",
       "       [89],\n",
       "       [90],\n",
       "       [90],\n",
       "       [92],\n",
       "       [86],\n",
       "       [86],\n",
       "       [82],\n",
       "       [80],\n",
       "       [79],\n",
       "       [77],\n",
       "       [79],\n",
       "       [76],\n",
       "       [78],\n",
       "       [78],\n",
       "       [77],\n",
       "       [72],\n",
       "       [75],\n",
       "       [79],\n",
       "       [81],\n",
       "       [86],\n",
       "       [88],\n",
       "       [97],\n",
       "       [94],\n",
       "       [96],\n",
       "       [94],\n",
       "       [91],\n",
       "       [92],\n",
       "       [93],\n",
       "       [93],\n",
       "       [87],\n",
       "       [84],\n",
       "       [80],\n",
       "       [78],\n",
       "       [75],\n",
       "       [73],\n",
       "       [81],\n",
       "       [76],\n",
       "       [77],\n",
       "       [71],\n",
       "       [71],\n",
       "       [78],\n",
       "       [67],\n",
       "       [76],\n",
       "       [68],\n",
       "       [82],\n",
       "       [64],\n",
       "       [71],\n",
       "       [81],\n",
       "       [69],\n",
       "       [63],\n",
       "       [70],\n",
       "       [77],\n",
       "       [75],\n",
       "       [76],\n",
       "       [68]], dtype=int64)"
      ]
     },
     "execution_count": 19,
     "metadata": {},
     "output_type": "execute_result"
    }
   ],
   "source": [
    "X"
   ]
  },
  {
   "cell_type": "code",
   "execution_count": 20,
   "id": "28c7a8e5",
   "metadata": {},
   "outputs": [
    {
     "data": {
      "text/plain": [
       "array([[ 41.        ],\n",
       "       [ 36.        ],\n",
       "       [ 12.        ],\n",
       "       [ 18.        ],\n",
       "       [ 42.12931034],\n",
       "       [ 28.        ],\n",
       "       [ 23.        ],\n",
       "       [ 19.        ],\n",
       "       [  8.        ],\n",
       "       [ 42.12931034],\n",
       "       [  7.        ],\n",
       "       [ 16.        ],\n",
       "       [ 11.        ],\n",
       "       [ 14.        ],\n",
       "       [ 18.        ],\n",
       "       [ 14.        ],\n",
       "       [ 34.        ],\n",
       "       [  6.        ],\n",
       "       [ 30.        ],\n",
       "       [ 11.        ],\n",
       "       [  1.        ],\n",
       "       [ 11.        ],\n",
       "       [  4.        ],\n",
       "       [ 32.        ],\n",
       "       [ 42.12931034],\n",
       "       [ 42.12931034],\n",
       "       [ 42.12931034],\n",
       "       [ 23.        ],\n",
       "       [ 45.        ],\n",
       "       [115.        ],\n",
       "       [ 37.        ],\n",
       "       [ 42.12931034],\n",
       "       [ 42.12931034],\n",
       "       [ 42.12931034],\n",
       "       [ 42.12931034],\n",
       "       [ 42.12931034],\n",
       "       [ 42.12931034],\n",
       "       [ 29.        ],\n",
       "       [ 42.12931034],\n",
       "       [ 71.        ],\n",
       "       [ 39.        ],\n",
       "       [ 42.12931034],\n",
       "       [ 42.12931034],\n",
       "       [ 23.        ],\n",
       "       [ 42.12931034],\n",
       "       [ 42.12931034],\n",
       "       [ 21.        ],\n",
       "       [ 37.        ],\n",
       "       [ 20.        ],\n",
       "       [ 12.        ],\n",
       "       [ 13.        ],\n",
       "       [ 42.12931034],\n",
       "       [ 42.12931034],\n",
       "       [ 42.12931034],\n",
       "       [ 42.12931034],\n",
       "       [ 42.12931034],\n",
       "       [ 42.12931034],\n",
       "       [ 42.12931034],\n",
       "       [ 42.12931034],\n",
       "       [ 42.12931034],\n",
       "       [ 42.12931034],\n",
       "       [135.        ],\n",
       "       [ 49.        ],\n",
       "       [ 32.        ],\n",
       "       [ 42.12931034],\n",
       "       [ 64.        ],\n",
       "       [ 40.        ],\n",
       "       [ 77.        ],\n",
       "       [ 97.        ],\n",
       "       [ 97.        ],\n",
       "       [ 85.        ],\n",
       "       [ 42.12931034],\n",
       "       [ 10.        ],\n",
       "       [ 27.        ],\n",
       "       [ 42.12931034],\n",
       "       [  7.        ],\n",
       "       [ 48.        ],\n",
       "       [ 35.        ],\n",
       "       [ 61.        ],\n",
       "       [ 79.        ],\n",
       "       [ 63.        ],\n",
       "       [ 16.        ],\n",
       "       [ 42.12931034],\n",
       "       [ 42.12931034],\n",
       "       [ 80.        ],\n",
       "       [108.        ],\n",
       "       [ 20.        ],\n",
       "       [ 52.        ],\n",
       "       [ 82.        ],\n",
       "       [ 50.        ],\n",
       "       [ 64.        ],\n",
       "       [ 59.        ],\n",
       "       [ 39.        ],\n",
       "       [  9.        ],\n",
       "       [ 16.        ],\n",
       "       [ 78.        ],\n",
       "       [ 35.        ],\n",
       "       [ 66.        ],\n",
       "       [122.        ],\n",
       "       [ 89.        ],\n",
       "       [110.        ],\n",
       "       [ 42.12931034],\n",
       "       [ 42.12931034],\n",
       "       [ 44.        ],\n",
       "       [ 28.        ],\n",
       "       [ 65.        ],\n",
       "       [ 42.12931034],\n",
       "       [ 22.        ],\n",
       "       [ 59.        ],\n",
       "       [ 23.        ],\n",
       "       [ 31.        ],\n",
       "       [ 44.        ],\n",
       "       [ 21.        ],\n",
       "       [  9.        ],\n",
       "       [ 42.12931034],\n",
       "       [ 45.        ],\n",
       "       [168.        ],\n",
       "       [ 73.        ],\n",
       "       [ 42.12931034],\n",
       "       [ 76.        ],\n",
       "       [118.        ],\n",
       "       [ 84.        ],\n",
       "       [ 85.        ],\n",
       "       [ 96.        ],\n",
       "       [ 78.        ],\n",
       "       [ 73.        ],\n",
       "       [ 91.        ],\n",
       "       [ 47.        ],\n",
       "       [ 32.        ],\n",
       "       [ 20.        ],\n",
       "       [ 23.        ],\n",
       "       [ 21.        ],\n",
       "       [ 24.        ],\n",
       "       [ 44.        ],\n",
       "       [ 21.        ],\n",
       "       [ 28.        ],\n",
       "       [  9.        ],\n",
       "       [ 13.        ],\n",
       "       [ 46.        ],\n",
       "       [ 18.        ],\n",
       "       [ 13.        ],\n",
       "       [ 24.        ],\n",
       "       [ 16.        ],\n",
       "       [ 13.        ],\n",
       "       [ 23.        ],\n",
       "       [ 36.        ],\n",
       "       [  7.        ],\n",
       "       [ 14.        ],\n",
       "       [ 30.        ],\n",
       "       [ 42.12931034],\n",
       "       [ 14.        ],\n",
       "       [ 18.        ],\n",
       "       [ 20.        ]])"
      ]
     },
     "execution_count": 20,
     "metadata": {},
     "output_type": "execute_result"
    }
   ],
   "source": [
    "Y"
   ]
  },
  {
   "cell_type": "code",
   "execution_count": 21,
   "id": "1220b3bb",
   "metadata": {},
   "outputs": [
    {
     "data": {
      "text/plain": [
       "array([ 42.12931034,  18.        ,  42.12931034,  30.        ,\n",
       "        42.12931034,  37.        ,  14.        ,  27.        ,\n",
       "        12.        ,  21.        ,  23.        ,   7.        ,\n",
       "        35.        ,  84.        ,  14.        ,  78.        ,\n",
       "       135.        ,  42.12931034, 108.        ,  49.        ,\n",
       "        61.        ,  32.        ,  23.        ,  31.        ,\n",
       "        22.        ,  13.        ,  50.        ,  42.12931034,\n",
       "         9.        ,  78.        ,  12.        ,  20.        ,\n",
       "        14.        ,  24.        ,  20.        ,   1.        ,\n",
       "        14.        ,  42.12931034,  48.        ,  18.        ,\n",
       "        20.        ,  64.        ,  23.        ,  97.        ,\n",
       "         9.        ,  80.        , 110.        ,  11.        ,\n",
       "        42.12931034,  73.        ,  59.        ,  23.        ,\n",
       "        21.        ,  16.        ,  42.12931034, 118.        ,\n",
       "        42.12931034,  85.        ,  36.        ,  42.12931034,\n",
       "        24.        ,  42.12931034,  42.12931034,  21.        ,\n",
       "         6.        ,  42.12931034,  28.        ,  42.12931034,\n",
       "         7.        ,  23.        ,  41.        ,  42.12931034,\n",
       "        45.        ,  42.12931034,   7.        ,  42.12931034,\n",
       "        32.        , 168.        ,  42.12931034,  42.12931034,\n",
       "        96.        ,  42.12931034,  44.        ,  64.        ,\n",
       "        42.12931034,  16.        ,  18.        ,  47.        ,\n",
       "        11.        , 115.        ,  89.        ,  42.12931034,\n",
       "        79.        ,  45.        ,  30.        ,  10.        ,\n",
       "        35.        ,  42.12931034,  16.        ,  13.        ,\n",
       "        36.        ,  71.        ,  42.12931034,  13.        ,\n",
       "        82.        ,  85.        ,  52.        ,  42.12931034,\n",
       "        11.        ,  42.12931034,  44.        ,  77.        ,\n",
       "        73.        ,  37.        ])"
      ]
     },
     "execution_count": 21,
     "metadata": {},
     "output_type": "execute_result"
    }
   ],
   "source": [
    "from sklearn.model_selection import train_test_split\n",
    "Xtrain,Xtest,ytrain,ytest = train_test_split(X,y,test_size=0.25,random_state=0)\n",
    "ytrain"
   ]
  },
  {
   "cell_type": "code",
   "execution_count": 22,
   "id": "ba0bbc1a",
   "metadata": {},
   "outputs": [
    {
     "data": {
      "text/html": [
       "<style>#sk-container-id-1 {color: black;background-color: white;}#sk-container-id-1 pre{padding: 0;}#sk-container-id-1 div.sk-toggleable {background-color: white;}#sk-container-id-1 label.sk-toggleable__label {cursor: pointer;display: block;width: 100%;margin-bottom: 0;padding: 0.3em;box-sizing: border-box;text-align: center;}#sk-container-id-1 label.sk-toggleable__label-arrow:before {content: \"▸\";float: left;margin-right: 0.25em;color: #696969;}#sk-container-id-1 label.sk-toggleable__label-arrow:hover:before {color: black;}#sk-container-id-1 div.sk-estimator:hover label.sk-toggleable__label-arrow:before {color: black;}#sk-container-id-1 div.sk-toggleable__content {max-height: 0;max-width: 0;overflow: hidden;text-align: left;background-color: #f0f8ff;}#sk-container-id-1 div.sk-toggleable__content pre {margin: 0.2em;color: black;border-radius: 0.25em;background-color: #f0f8ff;}#sk-container-id-1 input.sk-toggleable__control:checked~div.sk-toggleable__content {max-height: 200px;max-width: 100%;overflow: auto;}#sk-container-id-1 input.sk-toggleable__control:checked~label.sk-toggleable__label-arrow:before {content: \"▾\";}#sk-container-id-1 div.sk-estimator input.sk-toggleable__control:checked~label.sk-toggleable__label {background-color: #d4ebff;}#sk-container-id-1 div.sk-label input.sk-toggleable__control:checked~label.sk-toggleable__label {background-color: #d4ebff;}#sk-container-id-1 input.sk-hidden--visually {border: 0;clip: rect(1px 1px 1px 1px);clip: rect(1px, 1px, 1px, 1px);height: 1px;margin: -1px;overflow: hidden;padding: 0;position: absolute;width: 1px;}#sk-container-id-1 div.sk-estimator {font-family: monospace;background-color: #f0f8ff;border: 1px dotted black;border-radius: 0.25em;box-sizing: border-box;margin-bottom: 0.5em;}#sk-container-id-1 div.sk-estimator:hover {background-color: #d4ebff;}#sk-container-id-1 div.sk-parallel-item::after {content: \"\";width: 100%;border-bottom: 1px solid gray;flex-grow: 1;}#sk-container-id-1 div.sk-label:hover label.sk-toggleable__label {background-color: #d4ebff;}#sk-container-id-1 div.sk-serial::before {content: \"\";position: absolute;border-left: 1px solid gray;box-sizing: border-box;top: 0;bottom: 0;left: 50%;z-index: 0;}#sk-container-id-1 div.sk-serial {display: flex;flex-direction: column;align-items: center;background-color: white;padding-right: 0.2em;padding-left: 0.2em;position: relative;}#sk-container-id-1 div.sk-item {position: relative;z-index: 1;}#sk-container-id-1 div.sk-parallel {display: flex;align-items: stretch;justify-content: center;background-color: white;position: relative;}#sk-container-id-1 div.sk-item::before, #sk-container-id-1 div.sk-parallel-item::before {content: \"\";position: absolute;border-left: 1px solid gray;box-sizing: border-box;top: 0;bottom: 0;left: 50%;z-index: -1;}#sk-container-id-1 div.sk-parallel-item {display: flex;flex-direction: column;z-index: 1;position: relative;background-color: white;}#sk-container-id-1 div.sk-parallel-item:first-child::after {align-self: flex-end;width: 50%;}#sk-container-id-1 div.sk-parallel-item:last-child::after {align-self: flex-start;width: 50%;}#sk-container-id-1 div.sk-parallel-item:only-child::after {width: 0;}#sk-container-id-1 div.sk-dashed-wrapped {border: 1px dashed gray;margin: 0 0.4em 0.5em 0.4em;box-sizing: border-box;padding-bottom: 0.4em;background-color: white;}#sk-container-id-1 div.sk-label label {font-family: monospace;font-weight: bold;display: inline-block;line-height: 1.2em;}#sk-container-id-1 div.sk-label-container {text-align: center;}#sk-container-id-1 div.sk-container {/* jupyter's `normalize.less` sets `[hidden] { display: none; }` but bootstrap.min.css set `[hidden] { display: none !important; }` so we also need the `!important` here to be able to override the default hidden behavior on the sphinx rendered scikit-learn.org. See: https://github.com/scikit-learn/scikit-learn/issues/21755 */display: inline-block !important;position: relative;}#sk-container-id-1 div.sk-text-repr-fallback {display: none;}</style><div id=\"sk-container-id-1\" class=\"sk-top-container\"><div class=\"sk-text-repr-fallback\"><pre>LinearRegression()</pre><b>In a Jupyter environment, please rerun this cell to show the HTML representation or trust the notebook. <br />On GitHub, the HTML representation is unable to render, please try loading this page with nbviewer.org.</b></div><div class=\"sk-container\" hidden><div class=\"sk-item\"><div class=\"sk-estimator sk-toggleable\"><input class=\"sk-toggleable__control sk-hidden--visually\" id=\"sk-estimator-id-1\" type=\"checkbox\" checked><label for=\"sk-estimator-id-1\" class=\"sk-toggleable__label sk-toggleable__label-arrow\">LinearRegression</label><div class=\"sk-toggleable__content\"><pre>LinearRegression()</pre></div></div></div></div></div>"
      ],
      "text/plain": [
       "LinearRegression()"
      ]
     },
     "execution_count": 22,
     "metadata": {},
     "output_type": "execute_result"
    }
   ],
   "source": [
    "from sklearn.linear_model import LinearRegression\n",
    "regressor = LinearRegression()\n",
    "regressor.fit(Xtrain,ytrain)"
   ]
  },
  {
   "cell_type": "code",
   "execution_count": 23,
   "id": "8d5c6880",
   "metadata": {},
   "outputs": [],
   "source": [
    "y_predict = regressor.predict(Xtest)\n",
    "y_train_predict = regressor.predict(Xtrain)"
   ]
  },
  {
   "cell_type": "code",
   "execution_count": 24,
   "id": "ea547111",
   "metadata": {},
   "outputs": [
    {
     "data": {
      "text/plain": [
       "array([ 0.48426064, 40.53586463, 48.54618543, 46.54360523,  0.48426064,\n",
       "        4.48942104, 46.54360523, 70.57456762, 40.53586463, 38.53328443,\n",
       "       50.54876563, 50.54876563, 50.54876563, 20.51006263, 50.54876563,\n",
       "       60.56166663, 20.51006263, 42.53844483, 70.57456762, 80.58746862,\n",
       "       42.53844483,  8.49458144, 28.52038343, 56.55650623, 50.54876563,\n",
       "       64.56682702, 28.52038343, 52.55134583, 48.54618543, 40.53586463,\n",
       "       18.50748243, 72.57714782, 58.55908643, 48.54618543,  8.49458144,\n",
       "       52.55134583, 60.56166663, 42.53844483, 20.51006263])"
      ]
     },
     "execution_count": 24,
     "metadata": {},
     "output_type": "execute_result"
    }
   ],
   "source": [
    "y_predict\n"
   ]
  },
  {
   "cell_type": "code",
   "execution_count": 27,
   "id": "9a8b75b1",
   "metadata": {},
   "outputs": [
    {
     "data": {
      "text/plain": [
       "[<matplotlib.lines.Line2D at 0x1a4294eca00>]"
      ]
     },
     "execution_count": 27,
     "metadata": {},
     "output_type": "execute_result"
    },
    {
     "data": {
      "image/png": "[encoded data removed]",
      "text/plain": [
       "<Figure size 432x288 with 1 Axes>"
      ]
     },
     "metadata": {
      "needs_background": "light"
     },
     "output_type": "display_data"
    }
   ],
   "source": [
    "plt.scatter(Xtrain,ytrain,color='orange')\n",
    "plt.plot(Xtrain,regressor.predict(Xtrain),color='green')\n",
    "plt.title('Graph of Temperature vs Ozone (Training ')\n",
    "plt.xlabel('Temp')\n",
    "plt.ylabel('Ozone')\n",
    "plt.show()"
   ]
  },
  {
   "cell_type": "code",
   "execution_count": 31,
   "id": "720ed694",
   "metadata": {},
   "outputs": [
    {
     "data": {
      "image/png": "[encoded data removed]",
      "text/plain": [
       "<Figure size 432x288 with 1 Axes>"
      ]
     },
     "metadata": {
      "needs_background": "light"
     },
     "output_type": "display_data"
    }
   ],
   "source": [
    "plt.scatter(Xtest,ytest,color='orange')\n",
    "plt.plot(Xtest,regressor.predict(Xtest),color='green')\n",
    "plt.title('Temperature vs Ozone (Training)')\n",
    "plt.xlabel('Temp')\n",
    "plt.ylabel('Ozone')\n",
    "plt.show()"
   ]
  },
  {
   "cell_type": "code",
   "execution_count": 32,
   "id": "d93f53a5",
   "metadata": {},
   "outputs": [
    {
     "data": {
      "text/plain": [
       "array([40.53586463, 38.53328443, 44.54102503, 22.51264283, 40.53586463,\n",
       "       38.53328443, 36.53070423, 48.54618543, 34.52812403, 38.53328443,\n",
       "       50.54876563, 34.52812403, 56.55650623, 78.58488842, 12.49974184,\n",
       "       70.57456762, 54.55392603, 50.54876563, 56.55650623, 56.55650623,\n",
       "       54.55392603, 54.55392603, 28.52038343, 42.53844483, 40.53586463,\n",
       "       38.53328443, 58.55908643, 54.55392603, 48.54618543, 58.55908643,\n",
       "       32.52554383, 16.50490223, 22.51264283, 32.52554383, 46.54360523,\n",
       "        4.48942104, 14.50232204, 38.53328443, 48.54618543, 10.49716164,\n",
       "       22.51264283, 52.55134583, 16.50490223, 70.57456762, 30.52296363,\n",
       "       58.55908643, 66.56940722, 18.50748243, 44.54102503, 72.57714782,\n",
       "       44.54102503, 42.53844483, 40.53586463, 24.51522303, 36.53070423,\n",
       "       74.57972802, 72.57714782, 74.57972802, 30.52296363, 62.56424683,\n",
       "       22.51264283, 70.57456762, -1.51831956, 36.53070423,  0.48426064,\n",
       "       60.56166663, 18.50748243, 38.53328443, 24.51522303, 38.53328443,\n",
       "       20.51006263, 54.55392603, 48.54618543, 36.53070423, 46.54360523,\n",
       "       56.55650623,  8.49458144, 48.54618543, 68.57198742, 42.53844483,\n",
       "       68.57198742, 32.52554383, 48.54618543, 52.55134583, 34.52812403,\n",
       "       50.54876563,  2.48684084, 60.56166663, 10.49716164, 44.54102503,\n",
       "       66.56940722, 48.54618543, 60.56166663, 44.54102503, 26.51780323,\n",
       "       32.52554383, 50.54876563,  2.48684084, 34.52812403, 14.50232204,\n",
       "       48.54618543, 66.56940722, 46.54360523, 38.53328443, 62.56424683,\n",
       "       64.56682702, 58.55908643, 44.54102503, 32.52554383, 24.51522303,\n",
       "       58.55908643, 62.56424683, 58.55908643, 30.52296363])"
      ]
     },
     "execution_count": 32,
     "metadata": {},
     "output_type": "execute_result"
    }
   ],
   "source": [
    "y_train_predict"
   ]
  },
  {
   "cell_type": "code",
   "execution_count": 33,
   "id": "c3a89785",
   "metadata": {},
   "outputs": [
    {
     "data": {
      "text/plain": [
       "406.49742500882735"
      ]
     },
     "execution_count": 33,
     "metadata": {},
     "output_type": "execute_result"
    }
   ],
   "source": [
    "# mean square error\n",
    "from sklearn.metrics import mean_squared_error\n",
    "MSE_test = mean_squared_error(ytest,y_predict)\n",
    "MSE_test"
   ]
  },
  {
   "cell_type": "code",
   "execution_count": 34,
   "id": "4c3c26f6",
   "metadata": {},
   "outputs": [
    {
     "data": {
      "text/plain": [
       "554.885936117783"
      ]
     },
     "execution_count": 34,
     "metadata": {},
     "output_type": "execute_result"
    }
   ],
   "source": [
    "MSE_train = mean_squared_error(y_train_predict,ytrain)\n",
    "MSE_train"
   ]
  },
  {
   "cell_type": "code",
   "execution_count": 35,
   "id": "7e97ce5e",
   "metadata": {},
   "outputs": [
    {
     "data": {
      "text/plain": [
       "15.582770425016747"
      ]
     },
     "execution_count": 35,
     "metadata": {},
     "output_type": "execute_result"
    }
   ],
   "source": [
    "# mean absolute error\n",
    "from sklearn.metrics import mean_absolute_error\n",
    "MAE_test = mean_absolute_error(ytest,y_predict)\n",
    "MAE_test"
   ]
  },
  {
   "cell_type": "code",
   "execution_count": 36,
   "id": "e3affce3",
   "metadata": {},
   "outputs": [
    {
     "data": {
      "text/plain": [
       "16.552417327174627"
      ]
     },
     "execution_count": 36,
     "metadata": {},
     "output_type": "execute_result"
    }
   ],
   "source": [
    "MSE_train = mean_absolute_error(y_train_predict,ytrain)\n",
    "MSE_train"
   ]
  },
  {
   "cell_type": "code",
   "execution_count": 38,
   "id": "6a79b46c",
   "metadata": {},
   "outputs": [
    {
     "data": {
      "text/plain": [
       "20.161781295531092"
      ]
     },
     "execution_count": 38,
     "metadata": {},
     "output_type": "execute_result"
    }
   ],
   "source": [
    "# root mean squared error\n",
    "\n",
    "RMSE_test = (MSE_test)**0.5\n",
    "RMSE_test"
   ]
  },
  {
   "cell_type": "code",
   "execution_count": 39,
   "id": "0ab6ed4f",
   "metadata": {},
   "outputs": [
    {
     "data": {
      "text/plain": [
       "4.068466213104716"
      ]
     },
     "execution_count": 39,
     "metadata": {},
     "output_type": "execute_result"
    }
   ],
   "source": [
    "RMSE_train = (MSE_train)**0.5\n",
    "RMSE_train"
   ]
  },
  {
   "cell_type": "code",
   "execution_count": 40,
   "id": "624c59e1",
   "metadata": {},
   "outputs": [
    {
     "data": {
      "text/plain": [
       "0.31561390539809386"
      ]
     },
     "execution_count": 40,
     "metadata": {},
     "output_type": "execute_result"
    }
   ],
   "source": [
    "from sklearn.metrics import r2_score\n",
    "\n",
    "r2_score(ytest,y_predict)\n"
   ]
  },
  {
   "cell_type": "code",
   "execution_count": 41,
   "id": "5587ae6b",
   "metadata": {},
   "outputs": [
    {
     "data": {
      "text/html": [
       "<div>\n",
       "<style scoped>\n",
       "    .dataframe tbody tr th:only-of-type {\n",
       "        vertical-align: middle;\n",
       "    }\n",
       "\n",
       "    .dataframe tbody tr th {\n",
       "        vertical-align: top;\n",
       "    }\n",
       "\n",
       "    .dataframe thead th {\n",
       "        text-align: right;\n",
       "    }\n",
       "</style>\n",
       "<table border=\"1\" class=\"dataframe\">\n",
       "  <thead>\n",
       "    <tr style=\"text-align: right;\">\n",
       "      <th></th>\n",
       "      <th>Ozone</th>\n",
       "      <th>Solar.R</th>\n",
       "      <th>Wind</th>\n",
       "      <th>Temp</th>\n",
       "    </tr>\n",
       "  </thead>\n",
       "  <tbody>\n",
       "    <tr>\n",
       "      <th>0</th>\n",
       "      <td>41.00000</td>\n",
       "      <td>190.000000</td>\n",
       "      <td>7.4</td>\n",
       "      <td>67</td>\n",
       "    </tr>\n",
       "    <tr>\n",
       "      <th>1</th>\n",
       "      <td>36.00000</td>\n",
       "      <td>118.000000</td>\n",
       "      <td>8.0</td>\n",
       "      <td>72</td>\n",
       "    </tr>\n",
       "    <tr>\n",
       "      <th>2</th>\n",
       "      <td>12.00000</td>\n",
       "      <td>149.000000</td>\n",
       "      <td>12.6</td>\n",
       "      <td>74</td>\n",
       "    </tr>\n",
       "    <tr>\n",
       "      <th>3</th>\n",
       "      <td>18.00000</td>\n",
       "      <td>313.000000</td>\n",
       "      <td>11.5</td>\n",
       "      <td>62</td>\n",
       "    </tr>\n",
       "    <tr>\n",
       "      <th>4</th>\n",
       "      <td>42.12931</td>\n",
       "      <td>185.931507</td>\n",
       "      <td>14.3</td>\n",
       "      <td>56</td>\n",
       "    </tr>\n",
       "  </tbody>\n",
       "</table>\n",
       "</div>"
      ],
      "text/plain": [
       "      Ozone     Solar.R  Wind  Temp\n",
       "0  41.00000  190.000000   7.4    67\n",
       "1  36.00000  118.000000   8.0    72\n",
       "2  12.00000  149.000000  12.6    74\n",
       "3  18.00000  313.000000  11.5    62\n",
       "4  42.12931  185.931507  14.3    56"
      ]
     },
     "execution_count": 41,
     "metadata": {},
     "output_type": "execute_result"
    }
   ],
   "source": [
    "newdf =airquality[['Ozone','Solar.R','Wind','Temp']]\n",
    "newdf.head()"
   ]
  },
  {
   "cell_type": "code",
   "execution_count": 44,
   "id": "fa8cd034",
   "metadata": {},
   "outputs": [
    {
     "name": "stdout",
     "output_type": "stream",
     "text": [
      "        Solar.R  Wind  Temp\n",
      "56   127.000000   8.0    78\n",
      "125  183.000000   2.8    93\n",
      "24    66.000000  16.6    57\n",
      "82   258.000000   9.7    81\n",
      "84   294.000000   8.6    86\n",
      "79   187.000000   5.1    87\n",
      "63   236.000000   9.2    81\n",
      "106   64.000000  11.5    79\n",
      "74   291.000000  14.9    91\n",
      "90   253.000000   7.4    83\n",
      "32   287.000000   9.7    74\n",
      "81     7.000000   6.9    74\n",
      "100  207.000000   8.0    90\n",
      "18   322.000000  11.5    68\n",
      "122  188.000000   6.3    94\n",
      "80   220.000000  11.5    85\n",
      "8     19.000000  20.1    61\n",
      "26   185.931507   8.0    57\n",
      "128   92.000000  15.5    84\n",
      "116  238.000000   3.4    81\n",
      "33   242.000000  16.1    67\n",
      "36   264.000000  14.3    79\n",
      "21   320.000000  16.6    73\n",
      "110  244.000000  10.9    78\n",
      "1    118.000000   8.0    72\n",
      "99   229.000000  10.3    90\n",
      "77   274.000000  10.3    82\n",
      "86    81.000000   8.6    82\n",
      "127   95.000000   7.4    87\n",
      "37   127.000000   9.7    82\n",
      "22    25.000000   9.7    61\n",
      "109  115.000000   7.4    76\n",
      "89   275.000000   7.4    86\n",
      "3    313.000000  11.5    62\n",
      "87    82.000000  12.0    86\n",
      "69   272.000000   5.7    92\n",
      "39   291.000000  13.8    90\n",
      "70   175.000000   7.4    89\n",
      "     Solar.R  Wind  Temp\n",
      "142    201.0   8.0    82\n",
      "31     286.0   8.6    78\n",
      "103    192.0  11.5    86\n",
      "29     223.0   5.7    79\n",
      "19      44.0   9.7    62\n",
      "..       ...   ...   ...\n",
      "145    139.0  10.3    81\n",
      "93      24.0  13.8    81\n",
      "0      190.0   7.4    67\n",
      "117    215.0   8.0    86\n",
      "61     269.0   4.1    84\n",
      "\n",
      "[115 rows x 3 columns]\n",
      "56      42.12931\n",
      "125     73.00000\n",
      "24      42.12931\n",
      "82      42.12931\n",
      "84      80.00000\n",
      "79      79.00000\n",
      "63      32.00000\n",
      "106     42.12931\n",
      "74      42.12931\n",
      "90      64.00000\n",
      "32      42.12931\n",
      "81      16.00000\n",
      "100    110.00000\n",
      "18      30.00000\n",
      "122     85.00000\n",
      "80      63.00000\n",
      "8        8.00000\n",
      "26      42.12931\n",
      "128     32.00000\n",
      "116    168.00000\n",
      "33      42.12931\n",
      "36      42.12931\n",
      "21      11.00000\n",
      "110     31.00000\n",
      "1       36.00000\n",
      "99      89.00000\n",
      "77      35.00000\n",
      "86      20.00000\n",
      "127     47.00000\n",
      "37      29.00000\n",
      "22       4.00000\n",
      "109     23.00000\n",
      "89      50.00000\n",
      "3       18.00000\n",
      "87      52.00000\n",
      "69      97.00000\n",
      "39      71.00000\n",
      "70      85.00000\n",
      "Name: Ozone, dtype: float64\n",
      "142     16.00000\n",
      "31      42.12931\n",
      "103     44.00000\n",
      "29     115.00000\n",
      "19      11.00000\n",
      "         ...    \n",
      "145     36.00000\n",
      "93       9.00000\n",
      "0       41.00000\n",
      "117     73.00000\n",
      "61     135.00000\n",
      "Name: Ozone, Length: 115, dtype: float64\n"
     ]
    }
   ],
   "source": [
    "from sklearn.model_selection import train_test_split\n",
    "X = newdf.drop(columns = 'Ozone')\n",
    "Y = newdf['Ozone']\n",
    "X_train,X_test,Y_train,Y_test = train_test_split(X,Y,test_size=0.75)\n",
    "print(X_train)\n",
    "print(X_test)\n",
    "print(Y_train)\n",
    "print(Y_test)"
   ]
  },
  {
   "cell_type": "code",
   "execution_count": 45,
   "id": "ff2b908e",
   "metadata": {},
   "outputs": [
    {
     "data": {
      "text/html": [
       "<style>#sk-container-id-2 {color: black;background-color: white;}#sk-container-id-2 pre{padding: 0;}#sk-container-id-2 div.sk-toggleable {background-color: white;}#sk-container-id-2 label.sk-toggleable__label {cursor: pointer;display: block;width: 100%;margin-bottom: 0;padding: 0.3em;box-sizing: border-box;text-align: center;}#sk-container-id-2 label.sk-toggleable__label-arrow:before {content: \"▸\";float: left;margin-right: 0.25em;color: #696969;}#sk-container-id-2 label.sk-toggleable__label-arrow:hover:before {color: black;}#sk-container-id-2 div.sk-estimator:hover label.sk-toggleable__label-arrow:before {color: black;}#sk-container-id-2 div.sk-toggleable__content {max-height: 0;max-width: 0;overflow: hidden;text-align: left;background-color: #f0f8ff;}#sk-container-id-2 div.sk-toggleable__content pre {margin: 0.2em;color: black;border-radius: 0.25em;background-color: #f0f8ff;}#sk-container-id-2 input.sk-toggleable__control:checked~div.sk-toggleable__content {max-height: 200px;max-width: 100%;overflow: auto;}#sk-container-id-2 input.sk-toggleable__control:checked~label.sk-toggleable__label-arrow:before {content: \"▾\";}#sk-container-id-2 div.sk-estimator input.sk-toggleable__control:checked~label.sk-toggleable__label {background-color: #d4ebff;}#sk-container-id-2 div.sk-label input.sk-toggleable__control:checked~label.sk-toggleable__label {background-color: #d4ebff;}#sk-container-id-2 input.sk-hidden--visually {border: 0;clip: rect(1px 1px 1px 1px);clip: rect(1px, 1px, 1px, 1px);height: 1px;margin: -1px;overflow: hidden;padding: 0;position: absolute;width: 1px;}#sk-container-id-2 div.sk-estimator {font-family: monospace;background-color: #f0f8ff;border: 1px dotted black;border-radius: 0.25em;box-sizing: border-box;margin-bottom: 0.5em;}#sk-container-id-2 div.sk-estimator:hover {background-color: #d4ebff;}#sk-container-id-2 div.sk-parallel-item::after {content: \"\";width: 100%;border-bottom: 1px solid gray;flex-grow: 1;}#sk-container-id-2 div.sk-label:hover label.sk-toggleable__label {background-color: #d4ebff;}#sk-container-id-2 div.sk-serial::before {content: \"\";position: absolute;border-left: 1px solid gray;box-sizing: border-box;top: 0;bottom: 0;left: 50%;z-index: 0;}#sk-container-id-2 div.sk-serial {display: flex;flex-direction: column;align-items: center;background-color: white;padding-right: 0.2em;padding-left: 0.2em;position: relative;}#sk-container-id-2 div.sk-item {position: relative;z-index: 1;}#sk-container-id-2 div.sk-parallel {display: flex;align-items: stretch;justify-content: center;background-color: white;position: relative;}#sk-container-id-2 div.sk-item::before, #sk-container-id-2 div.sk-parallel-item::before {content: \"\";position: absolute;border-left: 1px solid gray;box-sizing: border-box;top: 0;bottom: 0;left: 50%;z-index: -1;}#sk-container-id-2 div.sk-parallel-item {display: flex;flex-direction: column;z-index: 1;position: relative;background-color: white;}#sk-container-id-2 div.sk-parallel-item:first-child::after {align-self: flex-end;width: 50%;}#sk-container-id-2 div.sk-parallel-item:last-child::after {align-self: flex-start;width: 50%;}#sk-container-id-2 div.sk-parallel-item:only-child::after {width: 0;}#sk-container-id-2 div.sk-dashed-wrapped {border: 1px dashed gray;margin: 0 0.4em 0.5em 0.4em;box-sizing: border-box;padding-bottom: 0.4em;background-color: white;}#sk-container-id-2 div.sk-label label {font-family: monospace;font-weight: bold;display: inline-block;line-height: 1.2em;}#sk-container-id-2 div.sk-label-container {text-align: center;}#sk-container-id-2 div.sk-container {/* jupyter's `normalize.less` sets `[hidden] { display: none; }` but bootstrap.min.css set `[hidden] { display: none !important; }` so we also need the `!important` here to be able to override the default hidden behavior on the sphinx rendered scikit-learn.org. See: https://github.com/scikit-learn/scikit-learn/issues/21755 */display: inline-block !important;position: relative;}#sk-container-id-2 div.sk-text-repr-fallback {display: none;}</style><div id=\"sk-container-id-2\" class=\"sk-top-container\"><div class=\"sk-text-repr-fallback\"><pre>LinearRegression()</pre><b>In a Jupyter environment, please rerun this cell to show the HTML representation or trust the notebook. <br />On GitHub, the HTML representation is unable to render, please try loading this page with nbviewer.org.</b></div><div class=\"sk-container\" hidden><div class=\"sk-item\"><div class=\"sk-estimator sk-toggleable\"><input class=\"sk-toggleable__control sk-hidden--visually\" id=\"sk-estimator-id-2\" type=\"checkbox\" checked><label for=\"sk-estimator-id-2\" class=\"sk-toggleable__label sk-toggleable__label-arrow\">LinearRegression</label><div class=\"sk-toggleable__content\"><pre>LinearRegression()</pre></div></div></div></div></div>"
      ],
      "text/plain": [
       "LinearRegression()"
      ]
     },
     "execution_count": 45,
     "metadata": {},
     "output_type": "execute_result"
    }
   ],
   "source": [
    "from sklearn.linear_model import LinearRegression\n",
    "reg = LinearRegression()\n",
    "reg.fit(X_train,Y_train)"
   ]
  },
  {
   "cell_type": "code",
   "execution_count": 46,
   "id": "407fc79a",
   "metadata": {},
   "outputs": [
    {
     "name": "stdout",
     "output_type": "stream",
     "text": [
      "        Actual  Predicted\n",
      "142   16.00000  60.129407\n",
      "31    42.12931  59.545943\n",
      "103   44.00000  53.878447\n",
      "29   115.00000  64.908044\n",
      "19    11.00000  21.149802\n",
      "..         ...        ...\n",
      "145   36.00000  47.964171\n",
      "93     9.00000  29.804074\n",
      "0     41.00000  43.716663\n",
      "117   73.00000  65.734403\n",
      "61   135.00000  78.566593\n",
      "\n",
      "[115 rows x 2 columns]\n"
     ]
    }
   ],
   "source": [
    "Y_pred = reg.predict(X_test)\n",
    "results = pd.DataFrame({'Actual': Y_test, 'Predicted': Y_pred})\n",
    "print(results)"
   ]
  },
  {
   "cell_type": "code",
   "execution_count": 47,
   "id": "b3606f99",
   "metadata": {},
   "outputs": [
    {
     "data": {
      "text/plain": [
       "434.0849964256837"
      ]
     },
     "execution_count": 47,
     "metadata": {},
     "output_type": "execute_result"
    }
   ],
   "source": [
    "mse = mean_squared_error(Y_test, Y_pred)\n",
    "mse\n"
   ]
  },
  {
   "cell_type": "code",
   "execution_count": 48,
   "id": "0bb1916c",
   "metadata": {},
   "outputs": [
    {
     "data": {
      "text/plain": [
       "17.53976613063562"
      ]
     },
     "execution_count": 48,
     "metadata": {},
     "output_type": "execute_result"
    }
   ],
   "source": [
    "from sklearn.metrics import mean_absolute_error\n",
    "mae = mean_absolute_error(Y_test, Y_pred)\n",
    "mae"
   ]
  },
  {
   "cell_type": "code",
   "execution_count": 49,
   "id": "73e1495b",
   "metadata": {},
   "outputs": [
    {
     "data": {
      "text/plain": [
       "20.834706535626648"
      ]
     },
     "execution_count": 49,
     "metadata": {},
     "output_type": "execute_result"
    }
   ],
   "source": [
    "rmse=np.sqrt(mse)\n",
    "rmse"
   ]
  },
  {
   "cell_type": "code",
   "execution_count": 50,
   "id": "37721eca",
   "metadata": {},
   "outputs": [
    {
     "data": {
      "text/plain": [
       "0.31561390539809386"
      ]
     },
     "execution_count": 50,
     "metadata": {},
     "output_type": "execute_result"
    }
   ],
   "source": [
    "from sklearn.metrics import r2_score\n",
    "\n",
    "r2_score(ytest,y_predict)"
   ]
  }
 ],
 "metadata": {
  "kernelspec": {
   "display_name": "Python 3 (ipykernel)",
   "language": "python",
   "name": "python3"
  },
  "language_info": {
   "codemirror_mode": {
    "name": "ipython",
    "version": 3
   },
   "file_extension": ".py",
   "mimetype": "text/x-python",
   "name": "python",
   "nbconvert_exporter": "python",
   "pygments_lexer": "ipython3",
   "version": "3.10.5"
  }
 },
 "nbformat": 4,
 "nbformat_minor": 5
}
